{
 "cells": [
  {
   "cell_type": "markdown",
   "id": "b5b2d302",
   "metadata": {},
   "source": [
    "### WAP to find the largest number in a list.   "
   ]
  },
  {
   "cell_type": "code",
   "execution_count": 19,
   "id": "54bab0a4",
   "metadata": {},
   "outputs": [
    {
     "name": "stdout",
     "output_type": "stream",
     "text": [
      "The Largest number is:  44\n"
     ]
    }
   ],
   "source": [
    "l = [11,1,8,7,6,44]\n",
    "l.sort()\n",
    "print('The Largest number is: ',l[-1])"
   ]
  },
  {
   "cell_type": "markdown",
   "id": "d9e93705",
   "metadata": {},
   "source": [
    "### WAP to find even and odd number in two diiferent list"
   ]
  },
  {
   "cell_type": "code",
   "execution_count": 2,
   "id": "c6c02769",
   "metadata": {},
   "outputs": [
    {
     "name": "stdout",
     "output_type": "stream",
     "text": [
      "Enter a numbers of elements:4\n",
      "Enter a nummber: 2\n",
      "Enter a nummber: 6\n",
      "Enter a nummber: 7\n",
      "Enter a nummber: 9\n",
      "The even number list is : [2, 6]\n",
      "The odd number list is: [7, 9]\n"
     ]
    }
   ],
   "source": [
    "l1 = []\n",
    "l2 = []\n",
    "s = int(input('Enter a numbers of elements:'))\n",
    "for i in range(1,s+1):\n",
    "    b = int(input('Enter a nummber: '))\n",
    "    if b % 2 == 0:\n",
    "        l1.append(b)\n",
    "    else:\n",
    "        l2.append(b)\n",
    "print('The even number list is :',l1)        \n",
    "print('The odd number list is:',l2)"
   ]
  },
  {
   "cell_type": "markdown",
   "id": "9e4587b9",
   "metadata": {},
   "source": [
    "### WAP to merge two lists and sort it\n",
    "    "
   ]
  },
  {
   "cell_type": "code",
   "execution_count": 54,
   "id": "eeec599f",
   "metadata": {},
   "outputs": [
    {
     "name": "stdout",
     "output_type": "stream",
     "text": [
      "Enter a number of elements:3\n",
      "Enter a element:10\n",
      "Enter a element:90\n",
      "Enter a element:50\n",
      "Enter a number of elements:3\n",
      "Enter a element:80\n",
      "Enter a element:70\n",
      "Enter a element:40\n",
      "Sorted list is:  [10, 40, 50, 70, 80, 90]\n"
     ]
    }
   ],
   "source": [
    "l1 = []\n",
    "l2 = []\n",
    "s = int(input('Enter a number of elements:'))\n",
    "for i in range(1,s+1):\n",
    "    a = int(input('Enter a element:'))\n",
    "    l1.append(a)\n",
    "s1 = int(input('Enter a number of elements:'))\n",
    "for i in range(1,s1+1):\n",
    "    b = int(input('Enter a element:'))\n",
    "    l2.append(b)\n",
    "l3 = l1 + l2\n",
    "l3.sort()\n",
    "print('Sorted list is: ',l3)"
   ]
  },
  {
   "cell_type": "markdown",
   "id": "9f378422",
   "metadata": {},
   "source": [
    "### WAP to sort a list according to the length of the elements."
   ]
  },
  {
   "cell_type": "code",
   "execution_count": 3,
   "id": "79a23820",
   "metadata": {},
   "outputs": [
    {
     "name": "stdout",
     "output_type": "stream",
     "text": [
      "Enter a number of elements: 4\n",
      "Enter a element: ram\n",
      "Enter a element: gopala\n",
      "Enter a element: krishna\n",
      "Enter a element: radha\n",
      "['ram', 'radha', 'gopala', 'krishna']\n"
     ]
    }
   ],
   "source": [
    "s = int(input('Enter a number of elements: '))\n",
    "a =[]\n",
    "for i in range(1,s+1):\n",
    "    s1 = input('Enter a element: ')\n",
    "    a.append(s1)\n",
    "a.sort(key=len)   \n",
    "print(a)\n",
    "    "
   ]
  },
  {
   "cell_type": "markdown",
   "id": "442fefb5",
   "metadata": {},
   "source": [
    "### WAP to find the intersection of two lists."
   ]
  },
  {
   "cell_type": "code",
   "execution_count": 7,
   "id": "6b70eacb",
   "metadata": {},
   "outputs": [
    {
     "name": "stdout",
     "output_type": "stream",
     "text": [
      "Enter a number of elements for list1: 4\n",
      "Enter a number of elements for list2: 4\n",
      "Enter elements for list1: 10\n",
      "Enter elements for list1: 20\n",
      "Enter elements for list1: 30\n",
      "Enter elements for list1: 40\n",
      "Enter elements for list2: 30\n",
      "Enter elements for list2: 40\n",
      "Enter elements for list2: 50\n",
      "Enter elements for list2: 60\n",
      "[40, 30]\n"
     ]
    }
   ],
   "source": [
    "l1= []\n",
    "l2 = []\n",
    "l3= []\n",
    "a = int(input('Enter a number of elements for list1: '))\n",
    "b = int(input('Enter a number of elements for list2: '))\n",
    "for i in range(1,a+1):\n",
    "    p = int(input('Enter elements for list1: '))\n",
    "    l1.append(p)\n",
    "for j in range(1,b+1):\n",
    "    q = int(input('Enter elements for list2: '))\n",
    "    l2.append(q)\n",
    "l3= (set(l1) & set(l2))\n",
    "print(list(l3))"
   ]
  },
  {
   "cell_type": "markdown",
   "id": "db3e4d7a",
   "metadata": {},
   "source": [
    "### WAP to create a list of Tuples with the First element as the number and second element as the square of the number."
   ]
  },
  {
   "cell_type": "code",
   "execution_count": 12,
   "id": "306636a9",
   "metadata": {},
   "outputs": [
    {
     "name": "stdout",
     "output_type": "stream",
     "text": [
      "Enter a lower range: 1\n",
      "Enter a upper range: 4\n",
      "[(1, 1), (2, 4), (3, 9), (4, 16)]\n"
     ]
    }
   ],
   "source": [
    "a = int(input('Enter a lower range: '))\n",
    "b = int(input('Enter a upper range: '))\n",
    "p = [(i,i**2) for i in range(a, b+1)]\n",
    "print(p)    "
   ]
  },
  {
   "cell_type": "markdown",
   "id": "98d477ca",
   "metadata": {},
   "source": [
    "### WAP to swap the First and Last Values of a List."
   ]
  },
  {
   "cell_type": "code",
   "execution_count": 13,
   "id": "b6f9abf7",
   "metadata": {},
   "outputs": [
    {
     "name": "stdout",
     "output_type": "stream",
     "text": [
      "Enter a number of elements: 5\n",
      "Enter a elements: 10\n",
      "Enter a elements: 20\n",
      "Enter a elements: 30\n",
      "Enter a elements: 40\n",
      "Enter a elements: 50\n",
      "[10, 20, 30, 40, 50]\n",
      "[50, 20, 30, 40, 10]\n"
     ]
    }
   ],
   "source": [
    "l = []\n",
    "n = int(input('Enter a number of elements: '))\n",
    "for i in range(1,n+1):\n",
    "    a = int(input('Enter a elements: '))\n",
    "    l.append(a)\n",
    "\n",
    "print(l)\n",
    "temp = l[0]\n",
    "l[0] = l[-1]\n",
    "l[-1] = temp\n",
    "print(l)"
   ]
  },
  {
   "cell_type": "markdown",
   "id": "d925f0a2",
   "metadata": {},
   "source": [
    "### WAP to remove a duplicate values of a list."
   ]
  },
  {
   "cell_type": "code",
   "execution_count": 21,
   "id": "c6174320",
   "metadata": {},
   "outputs": [
    {
     "name": "stdout",
     "output_type": "stream",
     "text": [
      "Enter a number of element for list: 10\n",
      "Enter a element: 1\n",
      "Enter a element: 1\n",
      "Enter a element: 1\n",
      "Enter a element: 2\n",
      "Enter a element: 2\n",
      "Enter a element: 3\n",
      "Enter a element: 3\n",
      "Enter a element: 4\n",
      "Enter a element: 4\n",
      "Enter a element: 5\n",
      "[1, 1, 1, 2, 2, 3, 3, 4, 4, 5]\n",
      "[1, 2, 3, 4, 5]\n"
     ]
    }
   ],
   "source": [
    "l = []\n",
    "n = int(input('Enter a number of element for list: '))\n",
    "for i in range(1,n+1):\n",
    "    a = int(input('Enter a element: '))\n",
    "    l.append(a)\n",
    "print(l)\n",
    "print(list(set(l)))\n"
   ]
  },
  {
   "cell_type": "markdown",
   "id": "68b264c0",
   "metadata": {},
   "source": [
    "### WAP to append a list to the second list."
   ]
  },
  {
   "cell_type": "code",
   "execution_count": 23,
   "id": "f86298da",
   "metadata": {},
   "outputs": [
    {
     "name": "stdout",
     "output_type": "stream",
     "text": [
      "Enter a number of elements for list1: 3\n",
      "enter a number of elements for list2: 3\n",
      "enter a elements for list1: 1\n",
      "enter a elements for list1: 2\n",
      "enter a elements for list1: 3\n",
      "enter a elements for list1: 10\n",
      "enter a elements for list1: 20\n",
      "enter a elements for list1: 3\n",
      "[1, 2, 3, 10, 20, 3]\n"
     ]
    }
   ],
   "source": [
    "l1 = []\n",
    "l2 = []\n",
    "a = int(input('Enter a number of elements for list1: '))\n",
    "b = int(input('enter a number of elements for list2: '))\n",
    "for i in range(1,a+1):\n",
    "    p = int(input('enter a elements for list1: '))\n",
    "    l1.append(p)\n",
    "for j in range(1,b+1):\n",
    "    q = int(input('enter a elements for list1: '))\n",
    "    l2.append(q)\n",
    "\n",
    "print(l1+l2)\n",
    "\n",
    "    \n"
   ]
  },
  {
   "cell_type": "code",
   "execution_count": 6,
   "id": "c797b5db",
   "metadata": {},
   "outputs": [
    {
     "name": "stdout",
     "output_type": "stream",
     "text": [
      "A\n",
      "BC\n",
      "CDE\n",
      "DEFG\n",
      "EFGHI\n"
     ]
    }
   ],
   "source": [
    "for i in range(65,70):\n",
    "    k=i\n",
    "    for j in range(65,i+1):\n",
    "        print(chr(k),end='')\n",
    "        k=k+1\n",
    "    print()"
   ]
  },
  {
   "cell_type": "code",
   "execution_count": null,
   "id": "d6ee7fec",
   "metadata": {},
   "outputs": [],
   "source": [
    "A\n",
    "BC\n",
    "DEF\n",
    "GHIJ\n",
    "KLMNO"
   ]
  },
  {
   "cell_type": "code",
   "execution_count": 5,
   "id": "87decd09",
   "metadata": {},
   "outputs": [
    {
     "name": "stdout",
     "output_type": "stream",
     "text": [
      "A\n",
      "BC\n",
      "DEF\n",
      "GHIJ\n",
      "KLMNO\n"
     ]
    }
   ],
   "source": [
    "k = 65\n",
    "for i in range(1,6):\n",
    "    for j in range(i):\n",
    "        print(chr(k),end='') \n",
    "        k+=1\n",
    "    print()    \n"
   ]
  },
  {
   "cell_type": "code",
   "execution_count": 8,
   "id": "3d201aac",
   "metadata": {},
   "outputs": [
    {
     "name": "stdout",
     "output_type": "stream",
     "text": [
      "Enter a range of list:7\n",
      "enter a elements for list: 1\n",
      "enter a elements for list: 2\n",
      "enter a elements for list: 3\n",
      "enter a elements for list: 4\n",
      "enter a elements for list: 5\n",
      "enter a elements for list: 6\n",
      "enter a elements for list: 7\n",
      "[1, 2, 3, 4, 5, 6, 7]\n",
      "The element divisible by 2:  [2, 4, 6]\n"
     ]
    }
   ],
   "source": [
    "l = []\n",
    "l1 = []\n",
    "n = int(input('Enter a range of list:'))\n",
    "for i in range(1,n+1):\n",
    "    a = int(input('enter a elements for list: '))\n",
    "    l.append(a)\n",
    "print(l) \n",
    "for i in l:\n",
    "    if (i % 2 == 0):\n",
    "        l1.append(i)\n",
    "print('The element divisible by 2: ',l1)"
   ]
  },
  {
   "cell_type": "code",
   "execution_count": 9,
   "id": "659d89f1",
   "metadata": {},
   "outputs": [
    {
     "name": "stdout",
     "output_type": "stream",
     "text": [
      "Enter a range of list:9\n",
      "enter a elements for list: 1\n",
      "enter a elements for list: 2\n",
      "enter a elements for list: 3\n",
      "enter a elements for list: 4\n",
      "enter a elements for list: 5\n",
      "enter a elements for list: 6\n",
      "enter a elements for list: 7\n",
      "enter a elements for list: 8\n",
      "enter a elements for list: 9\n",
      "[1, 2, 3, 4, 5, 6, 7, 8, 9]\n",
      "The element divisible by 2:  [6]\n"
     ]
    }
   ],
   "source": [
    "l = []\n",
    "l1 = []\n",
    "n = int(input('Enter a range of list:'))\n",
    "for i in range(1,n+1):\n",
    "    a = int(input('enter a elements for list: '))\n",
    "    l.append(a)\n",
    "print(l) \n",
    "for i in l:\n",
    "     if i in l[2:len(l)+1:3]:\n",
    "        if (i % 2 == 0):\n",
    "            l1.append(i)\n",
    "print('The element divisible by 2: ',l1)"
   ]
  },
  {
   "cell_type": "markdown",
   "id": "2fc7c305",
   "metadata": {},
   "source": [
    "### Check if a list contains a fruit 'orange'"
   ]
  },
  {
   "cell_type": "code",
   "execution_count": 16,
   "id": "0127e497",
   "metadata": {},
   "outputs": [
    {
     "name": "stdout",
     "output_type": "stream",
     "text": [
      "Enter a fruit list:mango banana pear apple orange kiwi grape\n",
      "['mango', 'banana', 'pear', 'apple', 'orange', 'kiwi', 'grape']\n",
      "No,List not containt a orange fruit -  mango\n",
      "No,List not containt a orange fruit -  banana\n",
      "No,List not containt a orange fruit -  pear\n",
      "No,List not containt a orange fruit -  apple\n",
      "Yes, List of fruit contain a orange fruit -  orange\n",
      "No,List not containt a orange fruit -  kiwi\n",
      "No,List not containt a orange fruit -  grape\n"
     ]
    }
   ],
   "source": [
    "f = input('Enter a fruit list:')\n",
    "l =[]\n",
    "o = ['orange']\n",
    "l = f.split()\n",
    "print(l)\n",
    "for i in l:\n",
    "    if i in o:\n",
    "        print('Yes, List of fruit contain a orange fruit - ',i)\n",
    "    else:\n",
    "        print('No,List not containt a orange fruit - ',i)"
   ]
  },
  {
   "cell_type": "markdown",
   "id": "573ef24c",
   "metadata": {},
   "source": [
    "### Find the index of 1st matching element "
   ]
  },
  {
   "cell_type": "code",
   "execution_count": 28,
   "id": "5b176e19",
   "metadata": {},
   "outputs": [
    {
     "name": "stdout",
     "output_type": "stream",
     "text": [
      "Enter a list of fruits:mango banana pear apple mango grapes\n",
      "['mango', 'banana', 'pear', 'apple', 'mango', 'grapes']\n",
      "Matching element is mango\n",
      "Matching element is mango\n"
     ]
    }
   ],
   "source": [
    "s = input('Enter a list of fruits:')\n",
    "l = s.split()\n",
    "l1 = l[0]\n",
    "print(l)\n",
    "for i in l:\n",
    "    if i in l1:\n",
    "        print('Matching element is',i)\n",
    "    "
   ]
  },
  {
   "cell_type": "markdown",
   "id": "571e20d9",
   "metadata": {},
   "source": [
    "### Remove all elements from a list from 2 methods"
   ]
  },
  {
   "cell_type": "code",
   "execution_count": 33,
   "id": "e9d0d42e",
   "metadata": {},
   "outputs": [
    {
     "name": "stdout",
     "output_type": "stream",
     "text": [
      "Enter a list:[10,20,30,30,40,40,50,50]\n",
      "[10, 20, 30, 30, 40, 40, 50, 50]\n",
      "[10, 20, 30, 30, 40, 40]\n",
      "[30, 30, 40, 40]\n"
     ]
    }
   ],
   "source": [
    "s = eval(input('Enter a list:'))\n",
    "print(s)\n",
    "s.pop()\n",
    "s.pop()\n",
    "print(s)\n",
    "s.remove(10)\n",
    "s.remove(20)\n",
    "print(s)"
   ]
  },
  {
   "cell_type": "markdown",
   "id": "df0d2126",
   "metadata": {},
   "source": [
    "### Concatenate two lists from 2 ways"
   ]
  },
  {
   "cell_type": "code",
   "execution_count": 42,
   "id": "faa57cbb",
   "metadata": {},
   "outputs": [
    {
     "name": "stdout",
     "output_type": "stream",
     "text": [
      "Enter a list:[1,2,3]\n",
      "Enter a list:[3,4,5,6,7]\n",
      "[1, 2, 3, 3, 4, 5, 6, 7]\n",
      "[1, 2, 3, 3, 4, 5, 6, 7]\n"
     ]
    }
   ],
   "source": [
    "l1 = eval(input('Enter a list:'))\n",
    "l2 = eval(input('Enter a list:'))\n",
    "print(l1+l2)\n",
    "l1.extend(l2)\n",
    "print(l1)"
   ]
  },
  {
   "cell_type": "markdown",
   "id": "7585fd30",
   "metadata": {},
   "source": [
    "### New list with added 1 to every element by using list comprehension"
   ]
  },
  {
   "cell_type": "code",
   "execution_count": 44,
   "id": "4e9d2f7e",
   "metadata": {},
   "outputs": [
    {
     "name": "stdout",
     "output_type": "stream",
     "text": [
      "Enter a list:[0,25,50,100]\n",
      "[1, 26, 51, 101]\n"
     ]
    }
   ],
   "source": [
    "ls = eval(input('Enter a list:'))\n",
    "print([i+1 for i in ls])"
   ]
  },
  {
   "cell_type": "markdown",
   "id": "7f81bb8a",
   "metadata": {},
   "source": [
    "### Count the occurrence of a specific object in a list"
   ]
  },
  {
   "cell_type": "code",
   "execution_count": 54,
   "id": "26d90b6d",
   "metadata": {},
   "outputs": [
    {
     "name": "stdout",
     "output_type": "stream",
     "text": [
      "Enter a list['fish','dog','fish','dog','cat']\n",
      "{'fish': 2, 'dog': 2, 'cat': 1}\n",
      "[2, 2, 2, 2, 1]\n"
     ]
    }
   ],
   "source": [
    "ls = eval(input('Enter a list'))\n",
    "print({i:ls.count(i) for i in ls})"
   ]
  },
  {
   "cell_type": "markdown",
   "id": "836f889a",
   "metadata": {},
   "source": [
    "### Return a lenght of a list"
   ]
  },
  {
   "cell_type": "code",
   "execution_count": 55,
   "id": "c80417ca",
   "metadata": {},
   "outputs": [
    {
     "name": "stdout",
     "output_type": "stream",
     "text": [
      "Enter a list:['fish','dog','fish','dog','cat']\n",
      "5\n"
     ]
    }
   ],
   "source": [
    "ls = eval(input(\"Enter a list:\"))\n",
    "print(len(ls))"
   ]
  },
  {
   "cell_type": "markdown",
   "id": "9ef10b18",
   "metadata": {},
   "source": [
    "### Check if an element is not in a list"
   ]
  },
  {
   "cell_type": "code",
   "execution_count": 60,
   "id": "570ce956",
   "metadata": {},
   "outputs": [
    {
     "name": "stdout",
     "output_type": "stream",
     "text": [
      "Enter a list:[1,2,3,4,5,6,7]\n",
      "Enter a list:[1,3,9]\n",
      "1 is element of list [1, 2, 3, 4, 5, 6, 7]\n",
      "3 is element of list [1, 2, 3, 4, 5, 6, 7]\n",
      "9 is not element of list [1, 2, 3, 4, 5, 6, 7]\n"
     ]
    }
   ],
   "source": [
    "ls = eval(input('Enter a list:'))\n",
    "l = eval(input('Enter a list:'))\n",
    "for j in l:\n",
    "    if j not in ls:\n",
    "        print(j,'is not element of list',ls)\n",
    "    else:\n",
    "        print(j,'is element of list',ls)"
   ]
  },
  {
   "cell_type": "markdown",
   "id": "918df26f",
   "metadata": {},
   "source": [
    "### Multiply every element in alist by 5"
   ]
  },
  {
   "cell_type": "code",
   "execution_count": 64,
   "id": "f885c7f8",
   "metadata": {},
   "outputs": [
    {
     "name": "stdout",
     "output_type": "stream",
     "text": [
      "Enter a numbers in a list:[1,2,3,4,5]\n",
      "5-10-15-20-25-"
     ]
    }
   ],
   "source": [
    "ls = eval(input('Enter a numbers in a list:'))\n",
    "for i in ls:\n",
    "    print(i*5,end='-')"
   ]
  },
  {
   "cell_type": "markdown",
   "id": "656abda3",
   "metadata": {},
   "source": [
    "###  Insert a value at a specific index in an existing list"
   ]
  },
  {
   "cell_type": "code",
   "execution_count": 68,
   "id": "ccf24486",
   "metadata": {},
   "outputs": [
    {
     "name": "stdout",
     "output_type": "stream",
     "text": [
      "Enter a list:['Manisha','Rakesh','Lipare']\n",
      "Enter a string:'Anvita'\n",
      "['Manisha', 'Rakesh', \"'Anvita'\", 'Lipare']\n"
     ]
    }
   ],
   "source": [
    "ls = eval(input('Enter a list:'))\n",
    "l = input('Enter a string:')\n",
    "ls.insert(2,l)\n",
    "print(ls)"
   ]
  },
  {
   "cell_type": "markdown",
   "id": "0d8b1ae0",
   "metadata": {},
   "source": [
    "### Remove elements in a list after a specific index, want only first 1 to 10 numbers"
   ]
  },
  {
   "cell_type": "code",
   "execution_count": 72,
   "id": "7bd4c924",
   "metadata": {},
   "outputs": [
    {
     "name": "stdout",
     "output_type": "stream",
     "text": [
      "1,2,3,4,5,6,7,8,9,10,"
     ]
    }
   ],
   "source": [
    "ls = [1,2,3,4,5,6,7,8,9,10,11,12,13,14,15,16,17,18,19,10]\n",
    "for i in ls:\n",
    "    if i == 11:\n",
    "        break\n",
    "    print(i,end=',')"
   ]
  },
  {
   "cell_type": "code",
   "execution_count": 76,
   "id": "a03efca3",
   "metadata": {},
   "outputs": [
    {
     "name": "stdout",
     "output_type": "stream",
     "text": [
      "[1, 2, 3, 4, 5, 6, 7, 8, 9, 10]\n"
     ]
    }
   ],
   "source": [
    "ls = [1,2,3,4,5,6,7,8,9,10,11,12,13,14,15,16,17,18,19,10]\n",
    "ls.index(10)\n",
    "print(ls[:10])"
   ]
  },
  {
   "cell_type": "markdown",
   "id": "280b1a5f",
   "metadata": {},
   "source": [
    "### Sort a list of integers in ascending and descending order"
   ]
  },
  {
   "cell_type": "code",
   "execution_count": 84,
   "id": "44081ce9",
   "metadata": {},
   "outputs": [
    {
     "name": "stdout",
     "output_type": "stream",
     "text": [
      "Enter a list of integer numbers:[7,11,3,2,9,4,5,7]\n",
      "[2, 3, 4, 5, 7, 7, 9, 11]\n",
      "[11, 9, 7, 7, 5, 4, 3, 2]\n"
     ]
    }
   ],
   "source": [
    "ls = eval(input('Enter a list of integer numbers:'))\n",
    "ls.sort()\n",
    "print(ls)\n",
    "ls.sort(reverse=True)\n",
    "print(ls)"
   ]
  },
  {
   "cell_type": "markdown",
   "id": "978eb5d7",
   "metadata": {},
   "source": [
    "### Filter even values out of a list with list comprehension"
   ]
  },
  {
   "cell_type": "code",
   "execution_count": 85,
   "id": "85725b54",
   "metadata": {},
   "outputs": [
    {
     "name": "stdout",
     "output_type": "stream",
     "text": [
      "Enter a integer number in a list:[1,2,3,4,5,6,7]\n",
      "[2, 4, 6]\n"
     ]
    }
   ],
   "source": [
    "ls = eval(input('Enter a integer number in a list:'))\n",
    "print([i for i in ls if i % 2 == 0])"
   ]
  },
  {
   "cell_type": "markdown",
   "id": "6fdf43bc",
   "metadata": {},
   "source": [
    "### Filter  odd values out of a list with list comprehension"
   ]
  },
  {
   "cell_type": "code",
   "execution_count": 90,
   "id": "65d79185",
   "metadata": {},
   "outputs": [
    {
     "name": "stdout",
     "output_type": "stream",
     "text": [
      "Enter a integer number in a list:[1,2,3,4,5,6,7]\n",
      "[1, 3, 5, 7]\n"
     ]
    }
   ],
   "source": [
    "ls = eval(input('Enter a integer number in a list:'))\n",
    "print([i for i in ls if i % 2 != 0 ])"
   ]
  },
  {
   "cell_type": "markdown",
   "id": "078ab2ea",
   "metadata": {},
   "source": [
    "### Filter even and odd values out of a list with list comprehension"
   ]
  },
  {
   "cell_type": "code",
   "execution_count": 96,
   "id": "ad23ee5b",
   "metadata": {},
   "outputs": [
    {
     "name": "stdout",
     "output_type": "stream",
     "text": [
      "Enter a integer number in a list:[1,2,3,4,5,6,7,8,9]\n",
      "['1 is Odd', '2 is even', '3 is Odd', '4 is even', '5 is Odd', '6 is even', '7 is Odd', '8 is even', '9 is Odd']\n"
     ]
    }
   ],
   "source": [
    "ls = eval(input('Enter a integer number in a list:'))\n",
    "print([f'{i} is even' if i % 2 == 0 else f'{i} is Odd' for i in ls])"
   ]
  },
  {
   "cell_type": "markdown",
   "id": "82b15de8",
   "metadata": {},
   "source": [
    "### to convert first letter of every word in uppercase"
   ]
  },
  {
   "cell_type": "code",
   "execution_count": 12,
   "id": "c8a64841",
   "metadata": {},
   "outputs": [
    {
     "name": "stdout",
     "output_type": "stream",
     "text": [
      "Enter a list: ['manu','anvi','sharu']\n",
      "Manu Anvi Sharu\n"
     ]
    }
   ],
   "source": [
    "ls = eval(input('Enter a list: '))\n",
    "m = ' '.join(ls)\n",
    "n = m.title()\n",
    "print(n)"
   ]
  },
  {
   "cell_type": "markdown",
   "id": "fde0053e",
   "metadata": {},
   "source": [
    "### Get the first element from each nested list in a list"
   ]
  },
  {
   "cell_type": "code",
   "execution_count": 13,
   "id": "5138a38a",
   "metadata": {},
   "outputs": [
    {
     "name": "stdout",
     "output_type": "stream",
     "text": [
      "Enter a list of list:[[1,2,3],[4,5,6]]\n",
      "1\n",
      "4\n"
     ]
    }
   ],
   "source": [
    "ls = eval(input('Enter a list of list:'))\n",
    "for i in ls:\n",
    "    print(i[0])"
   ]
  },
  {
   "cell_type": "markdown",
   "id": "bb167966",
   "metadata": {},
   "source": [
    "### Combine elements in a list into a single string"
   ]
  },
  {
   "cell_type": "code",
   "execution_count": 15,
   "id": "7bb3fbbb",
   "metadata": {},
   "outputs": [
    {
     "name": "stdout",
     "output_type": "stream",
     "text": [
      "Enter a list:['The','quick','brown','fox','jumped','over','the','lazy','dog']\n",
      "The quick brown fox jumped over the lazy dog\n"
     ]
    }
   ],
   "source": [
    "ls = eval(input('Enter a list:'))\n",
    "m = ' '.join(ls)\n",
    "print(m)"
   ]
  },
  {
   "cell_type": "markdown",
   "id": "2c40c4b9",
   "metadata": {},
   "source": [
    "### Reverse the list and Return the minimum values in a list"
   ]
  },
  {
   "cell_type": "code",
   "execution_count": 22,
   "id": "069dcb8d",
   "metadata": {},
   "outputs": [
    {
     "name": "stdout",
     "output_type": "stream",
     "text": [
      "Enter a integer numbers in a list:[11,7,9,10,4,3,2,5,1,12]\n",
      "Reverse sequence of list: [12, 1, 5, 2, 3, 4, 10, 9, 7, 11]\n",
      "Descending order: [12, 11, 10, 9, 7, 5, 4, 3, 2, 1]\n",
      "Ascending order: [1, 2, 3, 4, 5, 7, 9, 10, 11, 12]\n",
      "Minimum Value in a list: 1\n"
     ]
    }
   ],
   "source": [
    "ls = eval(input('Enter a integer numbers in a list:'))\n",
    "print('Reverse sequence of list:',ls[::-1])\n",
    "ls.sort(reverse = True)\n",
    "print('Descending order:',ls)\n",
    "print('Ascending order:',ls[::-1])\n",
    "print('Minimum Value in a list:',min(ls))"
   ]
  },
  {
   "cell_type": "markdown",
   "id": "a216e261",
   "metadata": {},
   "source": [
    "### Return the sum values in a list with sum function and without sum function"
   ]
  },
  {
   "cell_type": "code",
   "execution_count": 32,
   "id": "57802ac8",
   "metadata": {},
   "outputs": [
    {
     "name": "stdout",
     "output_type": "stream",
     "text": [
      "Enter a integer number into a list:[11,7,9,10,4,3,2,5,1,12]\n",
      "The sum are: 64\n"
     ]
    }
   ],
   "source": [
    "ls = eval(input('Enter a integer number into a list:'))\n",
    "#print('The sum is:',sum(ls))\n",
    "sum =0\n",
    "for i in ls:\n",
    "    sum+=i\n",
    "print('The sum are:',sum)          "
   ]
  },
  {
   "cell_type": "markdown",
   "id": "77bc198c",
   "metadata": {},
   "source": [
    "### Find the intersection of 2 lists"
   ]
  },
  {
   "cell_type": "code",
   "execution_count": 37,
   "id": "6aa99742",
   "metadata": {},
   "outputs": [
    {
     "name": "stdout",
     "output_type": "stream",
     "text": [
      "Enter a list:[1,2,3,4,5]\n",
      "Enter a list:[3,4,5,6,7]\n",
      "{3, 4, 5}\n"
     ]
    }
   ],
   "source": [
    "l1 = eval(input('Enter a list:'))\n",
    "l2 = eval(input('Enter a list:'))\n",
    "m = set(l1)\n",
    "n = set(l2)\n",
    "p = m.intersection(n)          \n",
    "print(p)"
   ]
  },
  {
   "cell_type": "code",
   "execution_count": 38,
   "id": "c81bb916",
   "metadata": {},
   "outputs": [
    {
     "name": "stdout",
     "output_type": "stream",
     "text": [
      "Enter a list:[1,2,3,4,5]\n",
      "Enter a list:[3,4,5,6,7]\n",
      "3 4 5 "
     ]
    }
   ],
   "source": [
    "l1 = eval(input('Enter a list:'))\n",
    "l2 = eval(input('Enter a list:'))\n",
    "for i in l1:\n",
    "    if i in l2:\n",
    "        print(i,end=' ')"
   ]
  },
  {
   "cell_type": "markdown",
   "id": "8859a45d",
   "metadata": {},
   "source": [
    "### Flatten a list of lists with a list comprehensions"
   ]
  },
  {
   "cell_type": "code",
   "execution_count": 42,
   "id": "92e5fbd5",
   "metadata": {},
   "outputs": [
    {
     "name": "stdout",
     "output_type": "stream",
     "text": [
      "Enter a list of list:[[1,2,3],[4,5,6]]\n",
      "[1, 2, 3, 4, 5, 6]\n"
     ]
    }
   ],
   "source": [
    "ls = eval(input('Enter a list of list:'))\n",
    "print([i for l in ls for i in l])"
   ]
  },
  {
   "cell_type": "markdown",
   "id": "33a58fec",
   "metadata": {},
   "source": [
    "### Remove empty strings from the list of strings"
   ]
  },
  {
   "cell_type": "code",
   "execution_count": 56,
   "id": "7219e8cd",
   "metadata": {},
   "outputs": [
    {
     "name": "stdout",
     "output_type": "stream",
     "text": [
      "Enter a list:[\"manu\",\"\",\"anvi\",\"\",\"sharu\"]\n",
      "manu  anvi  sharu\n"
     ]
    }
   ],
   "source": [
    "ls = eval(input('Enter a list:'))\n",
    "l = ' '.join(ls)\n",
    "print(l)"
   ]
  },
  {
   "cell_type": "code",
   "execution_count": 70,
   "id": "9b64274a",
   "metadata": {},
   "outputs": [
    {
     "name": "stdout",
     "output_type": "stream",
     "text": [
      "['a', 'b', ['c', ['d', 'e', ['f', 'g', 'h', 'i', 'j'], 'k'], 'l'], 'm', 'n']\n"
     ]
    }
   ],
   "source": [
    "list1 = ['a','b',['c',['d','e',['f','g'],'k'],'l'],'m','n']\n",
    "sub_list = ['h','i','j']\n",
    "list1[2][1][2].extend(sub_list)\n",
    "print(list1)"
   ]
  },
  {
   "cell_type": "markdown",
   "id": "a9cc404d",
   "metadata": {},
   "source": [
    "### Remove all occurrences of a specific item from a list"
   ]
  },
  {
   "cell_type": "code",
   "execution_count": 73,
   "id": "7f313a9b",
   "metadata": {},
   "outputs": [
    {
     "name": "stdout",
     "output_type": "stream",
     "text": [
      "5 10 15 25 50 30 "
     ]
    }
   ],
   "source": [
    "ls = [5,10,15,20,25,50,20,30,20]\n",
    "for i in ls:\n",
    "    if i == 20:\n",
    "        pass\n",
    "    else:\n",
    "        print(i,end=' ')"
   ]
  },
  {
   "cell_type": "code",
   "execution_count": 74,
   "id": "c56471ec",
   "metadata": {},
   "outputs": [
    {
     "name": "stdout",
     "output_type": "stream",
     "text": [
      "5 10 15 25 50 30 "
     ]
    }
   ],
   "source": [
    "ls = [5,10,15,20,25,50,20,30,20]\n",
    "for i in ls:\n",
    "    if i != 20:\n",
    "        print(i,end=' ')"
   ]
  },
  {
   "cell_type": "markdown",
   "id": "80092184",
   "metadata": {},
   "source": [
    "### Combine 2 lists into a dictionary"
   ]
  },
  {
   "cell_type": "code",
   "execution_count": 2,
   "id": "bf5660d1",
   "metadata": {},
   "outputs": [
    {
     "name": "stdout",
     "output_type": "stream",
     "text": [
      "Enter a list:['name','age','place']\n",
      "Enter a list:['manu',34,'pune']\n",
      "{'name': 'manu', 'age': 34, 'place': 'pune'}\n"
     ]
    }
   ],
   "source": [
    "l1 = eval(input('Enter a list:'))\n",
    "l2 = eval(input('Enter a list:'))\n",
    "m = dict(zip(l1,l2))\n",
    "print(m)"
   ]
  },
  {
   "cell_type": "code",
   "execution_count": 3,
   "id": "0e807dd3",
   "metadata": {},
   "outputs": [
    {
     "name": "stdout",
     "output_type": "stream",
     "text": [
      "Enter a list:['name','age','place']\n",
      "Enter a list:['manu',34,'pune']\n",
      "{'name': 'manu', 'age': 34, 'place': 'pune'}\n"
     ]
    }
   ],
   "source": [
    "l1 = eval(input('Enter a list:'))\n",
    "l2 = eval(input('Enter a list:'))\n",
    "print({l1[i]:l2[i] for i in range(len(l1))})"
   ]
  },
  {
   "cell_type": "code",
   "execution_count": null,
   "id": "02305f80",
   "metadata": {},
   "outputs": [],
   "source": []
  }
 ],
 "metadata": {
  "kernelspec": {
   "display_name": "Python 3 (ipykernel)",
   "language": "python",
   "name": "python3"
  },
  "language_info": {
   "codemirror_mode": {
    "name": "ipython",
    "version": 3
   },
   "file_extension": ".py",
   "mimetype": "text/x-python",
   "name": "python",
   "nbconvert_exporter": "python",
   "pygments_lexer": "ipython3",
   "version": "3.9.12"
  }
 },
 "nbformat": 4,
 "nbformat_minor": 5
}
